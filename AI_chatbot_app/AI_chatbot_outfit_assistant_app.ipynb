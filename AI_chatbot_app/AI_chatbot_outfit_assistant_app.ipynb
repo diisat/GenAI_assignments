{
 "cells": [
  {
   "cell_type": "code",
   "execution_count": 1,
   "metadata": {},
   "outputs": [
    {
     "name": "stdout",
     "output_type": "stream",
     "text": [
      "Requirement already satisfied: langchain[groq] in ./chatbot_env/lib/python3.13/site-packages (0.3.26)\n",
      "Requirement already satisfied: langchain-core<1.0.0,>=0.3.66 in ./chatbot_env/lib/python3.13/site-packages (from langchain[groq]) (0.3.66)\n",
      "Requirement already satisfied: langchain-text-splitters<1.0.0,>=0.3.8 in ./chatbot_env/lib/python3.13/site-packages (from langchain[groq]) (0.3.8)\n",
      "Requirement already satisfied: langsmith>=0.1.17 in ./chatbot_env/lib/python3.13/site-packages (from langchain[groq]) (0.4.1)\n",
      "Requirement already satisfied: pydantic<3.0.0,>=2.7.4 in ./chatbot_env/lib/python3.13/site-packages (from langchain[groq]) (2.11.7)\n",
      "Requirement already satisfied: SQLAlchemy<3,>=1.4 in ./chatbot_env/lib/python3.13/site-packages (from langchain[groq]) (2.0.41)\n",
      "Requirement already satisfied: requests<3,>=2 in ./chatbot_env/lib/python3.13/site-packages (from langchain[groq]) (2.32.4)\n",
      "Requirement already satisfied: PyYAML>=5.3 in ./chatbot_env/lib/python3.13/site-packages (from langchain[groq]) (6.0.2)\n",
      "Requirement already satisfied: langchain-groq in ./chatbot_env/lib/python3.13/site-packages (from langchain[groq]) (0.3.2)\n",
      "Requirement already satisfied: tenacity!=8.4.0,<10.0.0,>=8.1.0 in ./chatbot_env/lib/python3.13/site-packages (from langchain-core<1.0.0,>=0.3.66->langchain[groq]) (9.1.2)\n",
      "Requirement already satisfied: jsonpatch<2.0,>=1.33 in ./chatbot_env/lib/python3.13/site-packages (from langchain-core<1.0.0,>=0.3.66->langchain[groq]) (1.33)\n",
      "Requirement already satisfied: packaging<25,>=23.2 in ./chatbot_env/lib/python3.13/site-packages (from langchain-core<1.0.0,>=0.3.66->langchain[groq]) (24.2)\n",
      "Requirement already satisfied: typing-extensions>=4.7 in ./chatbot_env/lib/python3.13/site-packages (from langchain-core<1.0.0,>=0.3.66->langchain[groq]) (4.14.0)\n",
      "Requirement already satisfied: jsonpointer>=1.9 in ./chatbot_env/lib/python3.13/site-packages (from jsonpatch<2.0,>=1.33->langchain-core<1.0.0,>=0.3.66->langchain[groq]) (3.0.0)\n",
      "Requirement already satisfied: annotated-types>=0.6.0 in ./chatbot_env/lib/python3.13/site-packages (from pydantic<3.0.0,>=2.7.4->langchain[groq]) (0.7.0)\n",
      "Requirement already satisfied: pydantic-core==2.33.2 in ./chatbot_env/lib/python3.13/site-packages (from pydantic<3.0.0,>=2.7.4->langchain[groq]) (2.33.2)\n",
      "Requirement already satisfied: typing-inspection>=0.4.0 in ./chatbot_env/lib/python3.13/site-packages (from pydantic<3.0.0,>=2.7.4->langchain[groq]) (0.4.1)\n",
      "Requirement already satisfied: charset_normalizer<4,>=2 in ./chatbot_env/lib/python3.13/site-packages (from requests<3,>=2->langchain[groq]) (3.4.2)\n",
      "Requirement already satisfied: idna<4,>=2.5 in ./chatbot_env/lib/python3.13/site-packages (from requests<3,>=2->langchain[groq]) (3.10)\n",
      "Requirement already satisfied: urllib3<3,>=1.21.1 in ./chatbot_env/lib/python3.13/site-packages (from requests<3,>=2->langchain[groq]) (2.5.0)\n",
      "Requirement already satisfied: certifi>=2017.4.17 in ./chatbot_env/lib/python3.13/site-packages (from requests<3,>=2->langchain[groq]) (2025.6.15)\n",
      "Requirement already satisfied: httpx<1,>=0.23.0 in ./chatbot_env/lib/python3.13/site-packages (from langsmith>=0.1.17->langchain[groq]) (0.28.1)\n",
      "Requirement already satisfied: orjson<4.0.0,>=3.9.14 in ./chatbot_env/lib/python3.13/site-packages (from langsmith>=0.1.17->langchain[groq]) (3.10.18)\n",
      "Requirement already satisfied: requests-toolbelt<2.0.0,>=1.0.0 in ./chatbot_env/lib/python3.13/site-packages (from langsmith>=0.1.17->langchain[groq]) (1.0.0)\n",
      "Requirement already satisfied: zstandard<0.24.0,>=0.23.0 in ./chatbot_env/lib/python3.13/site-packages (from langsmith>=0.1.17->langchain[groq]) (0.23.0)\n",
      "Requirement already satisfied: anyio in ./chatbot_env/lib/python3.13/site-packages (from httpx<1,>=0.23.0->langsmith>=0.1.17->langchain[groq]) (4.9.0)\n",
      "Requirement already satisfied: httpcore==1.* in ./chatbot_env/lib/python3.13/site-packages (from httpx<1,>=0.23.0->langsmith>=0.1.17->langchain[groq]) (1.0.9)\n",
      "Requirement already satisfied: h11>=0.16 in ./chatbot_env/lib/python3.13/site-packages (from httpcore==1.*->httpx<1,>=0.23.0->langsmith>=0.1.17->langchain[groq]) (0.16.0)\n",
      "Requirement already satisfied: sniffio>=1.1 in ./chatbot_env/lib/python3.13/site-packages (from anyio->httpx<1,>=0.23.0->langsmith>=0.1.17->langchain[groq]) (1.3.1)\n",
      "Requirement already satisfied: groq<1,>=0.4.1 in ./chatbot_env/lib/python3.13/site-packages (from langchain-groq->langchain[groq]) (0.28.0)\n",
      "Requirement already satisfied: distro<2,>=1.7.0 in ./chatbot_env/lib/python3.13/site-packages (from groq<1,>=0.4.1->langchain-groq->langchain[groq]) (1.9.0)\n",
      "Note: you may need to restart the kernel to use updated packages.\n"
     ]
    }
   ],
   "source": [
    "pip install -U \"langchain[groq]\""
   ]
  },
  {
   "cell_type": "code",
   "execution_count": 2,
   "metadata": {},
   "outputs": [
    {
     "name": "stdout",
     "output_type": "stream",
     "text": [
      "Requirement already satisfied: langchain-anthropic in ./chatbot_env/lib/python3.13/site-packages (0.3.15)\n",
      "Collecting langchain-anthropic\n",
      "  Downloading langchain_anthropic-0.3.16-py3-none-any.whl.metadata (1.9 kB)\n",
      "Requirement already satisfied: anthropic<1,>=0.52.0 in ./chatbot_env/lib/python3.13/site-packages (from langchain-anthropic) (0.54.0)\n",
      "Requirement already satisfied: langchain-core<1.0.0,>=0.3.66 in ./chatbot_env/lib/python3.13/site-packages (from langchain-anthropic) (0.3.66)\n",
      "Requirement already satisfied: pydantic<3.0.0,>=2.7.4 in ./chatbot_env/lib/python3.13/site-packages (from langchain-anthropic) (2.11.7)\n",
      "Requirement already satisfied: anyio<5,>=3.5.0 in ./chatbot_env/lib/python3.13/site-packages (from anthropic<1,>=0.52.0->langchain-anthropic) (4.9.0)\n",
      "Requirement already satisfied: distro<2,>=1.7.0 in ./chatbot_env/lib/python3.13/site-packages (from anthropic<1,>=0.52.0->langchain-anthropic) (1.9.0)\n",
      "Requirement already satisfied: httpx<1,>=0.25.0 in ./chatbot_env/lib/python3.13/site-packages (from anthropic<1,>=0.52.0->langchain-anthropic) (0.28.1)\n",
      "Requirement already satisfied: jiter<1,>=0.4.0 in ./chatbot_env/lib/python3.13/site-packages (from anthropic<1,>=0.52.0->langchain-anthropic) (0.10.0)\n",
      "Requirement already satisfied: sniffio in ./chatbot_env/lib/python3.13/site-packages (from anthropic<1,>=0.52.0->langchain-anthropic) (1.3.1)\n",
      "Requirement already satisfied: typing-extensions<5,>=4.10 in ./chatbot_env/lib/python3.13/site-packages (from anthropic<1,>=0.52.0->langchain-anthropic) (4.14.0)\n",
      "Requirement already satisfied: idna>=2.8 in ./chatbot_env/lib/python3.13/site-packages (from anyio<5,>=3.5.0->anthropic<1,>=0.52.0->langchain-anthropic) (3.10)\n",
      "Requirement already satisfied: certifi in ./chatbot_env/lib/python3.13/site-packages (from httpx<1,>=0.25.0->anthropic<1,>=0.52.0->langchain-anthropic) (2025.6.15)\n",
      "Requirement already satisfied: httpcore==1.* in ./chatbot_env/lib/python3.13/site-packages (from httpx<1,>=0.25.0->anthropic<1,>=0.52.0->langchain-anthropic) (1.0.9)\n",
      "Requirement already satisfied: h11>=0.16 in ./chatbot_env/lib/python3.13/site-packages (from httpcore==1.*->httpx<1,>=0.25.0->anthropic<1,>=0.52.0->langchain-anthropic) (0.16.0)\n",
      "Requirement already satisfied: langsmith>=0.3.45 in ./chatbot_env/lib/python3.13/site-packages (from langchain-core<1.0.0,>=0.3.66->langchain-anthropic) (0.4.1)\n",
      "Requirement already satisfied: tenacity!=8.4.0,<10.0.0,>=8.1.0 in ./chatbot_env/lib/python3.13/site-packages (from langchain-core<1.0.0,>=0.3.66->langchain-anthropic) (9.1.2)\n",
      "Requirement already satisfied: jsonpatch<2.0,>=1.33 in ./chatbot_env/lib/python3.13/site-packages (from langchain-core<1.0.0,>=0.3.66->langchain-anthropic) (1.33)\n",
      "Requirement already satisfied: PyYAML>=5.3 in ./chatbot_env/lib/python3.13/site-packages (from langchain-core<1.0.0,>=0.3.66->langchain-anthropic) (6.0.2)\n",
      "Requirement already satisfied: packaging<25,>=23.2 in ./chatbot_env/lib/python3.13/site-packages (from langchain-core<1.0.0,>=0.3.66->langchain-anthropic) (24.2)\n",
      "Requirement already satisfied: jsonpointer>=1.9 in ./chatbot_env/lib/python3.13/site-packages (from jsonpatch<2.0,>=1.33->langchain-core<1.0.0,>=0.3.66->langchain-anthropic) (3.0.0)\n",
      "Requirement already satisfied: annotated-types>=0.6.0 in ./chatbot_env/lib/python3.13/site-packages (from pydantic<3.0.0,>=2.7.4->langchain-anthropic) (0.7.0)\n",
      "Requirement already satisfied: pydantic-core==2.33.2 in ./chatbot_env/lib/python3.13/site-packages (from pydantic<3.0.0,>=2.7.4->langchain-anthropic) (2.33.2)\n",
      "Requirement already satisfied: typing-inspection>=0.4.0 in ./chatbot_env/lib/python3.13/site-packages (from pydantic<3.0.0,>=2.7.4->langchain-anthropic) (0.4.1)\n",
      "Requirement already satisfied: orjson<4.0.0,>=3.9.14 in ./chatbot_env/lib/python3.13/site-packages (from langsmith>=0.3.45->langchain-core<1.0.0,>=0.3.66->langchain-anthropic) (3.10.18)\n",
      "Requirement already satisfied: requests<3,>=2 in ./chatbot_env/lib/python3.13/site-packages (from langsmith>=0.3.45->langchain-core<1.0.0,>=0.3.66->langchain-anthropic) (2.32.4)\n",
      "Requirement already satisfied: requests-toolbelt<2.0.0,>=1.0.0 in ./chatbot_env/lib/python3.13/site-packages (from langsmith>=0.3.45->langchain-core<1.0.0,>=0.3.66->langchain-anthropic) (1.0.0)\n",
      "Requirement already satisfied: zstandard<0.24.0,>=0.23.0 in ./chatbot_env/lib/python3.13/site-packages (from langsmith>=0.3.45->langchain-core<1.0.0,>=0.3.66->langchain-anthropic) (0.23.0)\n",
      "Requirement already satisfied: charset_normalizer<4,>=2 in ./chatbot_env/lib/python3.13/site-packages (from requests<3,>=2->langsmith>=0.3.45->langchain-core<1.0.0,>=0.3.66->langchain-anthropic) (3.4.2)\n",
      "Requirement already satisfied: urllib3<3,>=1.21.1 in ./chatbot_env/lib/python3.13/site-packages (from requests<3,>=2->langsmith>=0.3.45->langchain-core<1.0.0,>=0.3.66->langchain-anthropic) (2.5.0)\n",
      "Downloading langchain_anthropic-0.3.16-py3-none-any.whl (29 kB)\n",
      "Installing collected packages: langchain-anthropic\n",
      "  Attempting uninstall: langchain-anthropic\n",
      "    Found existing installation: langchain-anthropic 0.3.15\n",
      "    Uninstalling langchain-anthropic-0.3.15:\n",
      "      Successfully uninstalled langchain-anthropic-0.3.15\n",
      "Successfully installed langchain-anthropic-0.3.16\n",
      "Note: you may need to restart the kernel to use updated packages.\n"
     ]
    }
   ],
   "source": [
    "pip install -U langchain-anthropic"
   ]
  },
  {
   "cell_type": "code",
   "execution_count": 1,
   "metadata": {},
   "outputs": [],
   "source": [
    "from langgraph.prebuilt import create_react_agent\n",
    "from dotenv import load_dotenv\n",
    "load_dotenv()\n",
    "\n",
    "def assist_with_casualoutfit() -> str:  \n",
    "    \"\"\"Use this tool to assist the user with casual outfit suggestions.\"\"\"\n",
    "    return \"\"\"Try the following :\n",
    "    * A t-shirt and jeans\n",
    "    * A sweater and jeans\n",
    "    * A dress and sneakers\n",
    "    * A skirt and sneakers\n",
    "    * A dress and heels\n",
    "    * A skirt and heels\n",
    "    * A dress and boots\n",
    "    \"\"\"\n",
    "\n",
    "def assist_with_outfit(occasion: str) -> str:  \n",
    "    \"\"\"Assist the user with outfit suggestions.\n",
    "        Args:\n",
    "            occasion: The occasion where the user is located.\n",
    "        Returns:\n",
    "            A string with the best outfit for the occasion.\n",
    "    \"\"\"\n",
    "    if occasion == \"Casual\":\n",
    "        return assist_with_casualoutfit()\n",
    "    return \"I'm glad to help you with {occasion}\"\n",
    "\n",
    "\n",
    "persona = \"\"\"\n",
    "You are a helpful assistant that can answer questions about outfit suggestions.\n",
    "Your are a fashion expert and you are helping the user to find the best outfit for the following occasions:\n",
    "- Casual\n",
    "- Business\n",
    "- Formal\n",
    "- Party\n",
    "- Sport\n",
    "- Beach\n",
    "- Wedding\n",
    "Note: Return the tool response as it is, do not add any other text.\n",
    "\"\"\"\n",
    "\n",
    "\n",
    "agent = create_react_agent(\n",
    "    model=\"groq:llama-3.1-8b-instant\",  \n",
    "    tools=[assist_with_outfit],  \n",
    "    prompt=\"You are a helpful assistant\"  \n",
    ")\n",
    "\n",
    "# Run the agent\n",
    "from IPython.display import display_markdown\n",
    "def my_outfit(message):\n",
    "    out = agent.invoke(\n",
    "        {\"messages\": [{\"role\": \"user\", \"content\": message}]}\n",
    "    )\n",
    "    display_markdown(out['messages'][-1].content, raw=True)\n",
    "\n"
   ]
  },
  {
   "cell_type": "code",
   "execution_count": 2,
   "metadata": {},
   "outputs": [
    {
     "data": {
      "text/markdown": [
       "For a wedding event, I would recommend a formal outfit. A classic choice for men would be a well-fitted tuxedo with a white dress shirt, a bow tie, and a pair of black patent leather shoes. \n",
       "\n",
       "For women, a formal gown in a neutral or pastel color would be a great choice. A pair of high heels and some elegant jewelry would complete the outfit.\n",
       "\n",
       "Remember to dress according to the dress code specified by the couple or the invitation. If you're still unsure, you can always ask the couple or check with someone close to them for guidance.\n",
       "\n",
       "I hope this helps, and you have a wonderful time at the wedding event!"
      ]
     },
     "metadata": {},
     "output_type": "display_data"
    }
   ],
   "source": [
    "my_outfit(\"I'm going to a wedding event\")"
   ]
  }
 ],
 "metadata": {
  "kernelspec": {
   "display_name": "chatbot_env",
   "language": "python",
   "name": "python3"
  },
  "language_info": {
   "codemirror_mode": {
    "name": "ipython",
    "version": 3
   },
   "file_extension": ".py",
   "mimetype": "text/x-python",
   "name": "python",
   "nbconvert_exporter": "python",
   "pygments_lexer": "ipython3",
   "version": "3.13.5"
  }
 },
 "nbformat": 4,
 "nbformat_minor": 2
}
