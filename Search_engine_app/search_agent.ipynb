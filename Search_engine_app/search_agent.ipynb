{
 "cells": [
  {
   "cell_type": "code",
   "execution_count": 7,
   "metadata": {},
   "outputs": [
    {
     "name": "stdout",
     "output_type": "stream",
     "text": [
      "Requirement already satisfied: langchain-tavily in ./chatbot_env/lib/python3.13/site-packages (0.2.4)\n",
      "Requirement already satisfied: aiohttp<4.0.0,>=3.11.14 in ./chatbot_env/lib/python3.13/site-packages (from langchain-tavily) (3.12.13)\n",
      "Requirement already satisfied: langchain<0.4.0,>=0.3.20 in ./chatbot_env/lib/python3.13/site-packages (from langchain-tavily) (0.3.26)\n",
      "Requirement already satisfied: langchain-core<0.4.0,>=0.3.15 in ./chatbot_env/lib/python3.13/site-packages (from langchain-tavily) (0.3.66)\n",
      "Requirement already satisfied: mypy<2.0.0,>=1.15.0 in ./chatbot_env/lib/python3.13/site-packages (from langchain-tavily) (1.16.1)\n",
      "Requirement already satisfied: requests<3.0.0,>=2.32.3 in ./chatbot_env/lib/python3.13/site-packages (from langchain-tavily) (2.32.4)\n",
      "Requirement already satisfied: aiohappyeyeballs>=2.5.0 in ./chatbot_env/lib/python3.13/site-packages (from aiohttp<4.0.0,>=3.11.14->langchain-tavily) (2.6.1)\n",
      "Requirement already satisfied: aiosignal>=1.1.2 in ./chatbot_env/lib/python3.13/site-packages (from aiohttp<4.0.0,>=3.11.14->langchain-tavily) (1.3.2)\n",
      "Requirement already satisfied: attrs>=17.3.0 in ./chatbot_env/lib/python3.13/site-packages (from aiohttp<4.0.0,>=3.11.14->langchain-tavily) (25.3.0)\n",
      "Requirement already satisfied: frozenlist>=1.1.1 in ./chatbot_env/lib/python3.13/site-packages (from aiohttp<4.0.0,>=3.11.14->langchain-tavily) (1.7.0)\n",
      "Requirement already satisfied: multidict<7.0,>=4.5 in ./chatbot_env/lib/python3.13/site-packages (from aiohttp<4.0.0,>=3.11.14->langchain-tavily) (6.5.0)\n",
      "Requirement already satisfied: propcache>=0.2.0 in ./chatbot_env/lib/python3.13/site-packages (from aiohttp<4.0.0,>=3.11.14->langchain-tavily) (0.3.2)\n",
      "Requirement already satisfied: yarl<2.0,>=1.17.0 in ./chatbot_env/lib/python3.13/site-packages (from aiohttp<4.0.0,>=3.11.14->langchain-tavily) (1.20.1)\n",
      "Requirement already satisfied: langchain-text-splitters<1.0.0,>=0.3.8 in ./chatbot_env/lib/python3.13/site-packages (from langchain<0.4.0,>=0.3.20->langchain-tavily) (0.3.8)\n",
      "Requirement already satisfied: langsmith>=0.1.17 in ./chatbot_env/lib/python3.13/site-packages (from langchain<0.4.0,>=0.3.20->langchain-tavily) (0.4.1)\n",
      "Requirement already satisfied: pydantic<3.0.0,>=2.7.4 in ./chatbot_env/lib/python3.13/site-packages (from langchain<0.4.0,>=0.3.20->langchain-tavily) (2.11.7)\n",
      "Requirement already satisfied: SQLAlchemy<3,>=1.4 in ./chatbot_env/lib/python3.13/site-packages (from langchain<0.4.0,>=0.3.20->langchain-tavily) (2.0.41)\n",
      "Requirement already satisfied: PyYAML>=5.3 in ./chatbot_env/lib/python3.13/site-packages (from langchain<0.4.0,>=0.3.20->langchain-tavily) (6.0.2)\n",
      "Requirement already satisfied: tenacity!=8.4.0,<10.0.0,>=8.1.0 in ./chatbot_env/lib/python3.13/site-packages (from langchain-core<0.4.0,>=0.3.15->langchain-tavily) (9.1.2)\n",
      "Requirement already satisfied: jsonpatch<2.0,>=1.33 in ./chatbot_env/lib/python3.13/site-packages (from langchain-core<0.4.0,>=0.3.15->langchain-tavily) (1.33)\n",
      "Requirement already satisfied: packaging<25,>=23.2 in ./chatbot_env/lib/python3.13/site-packages (from langchain-core<0.4.0,>=0.3.15->langchain-tavily) (24.2)\n",
      "Requirement already satisfied: typing-extensions>=4.7 in ./chatbot_env/lib/python3.13/site-packages (from langchain-core<0.4.0,>=0.3.15->langchain-tavily) (4.14.0)\n",
      "Requirement already satisfied: jsonpointer>=1.9 in ./chatbot_env/lib/python3.13/site-packages (from jsonpatch<2.0,>=1.33->langchain-core<0.4.0,>=0.3.15->langchain-tavily) (3.0.0)\n",
      "Requirement already satisfied: mypy_extensions>=1.0.0 in ./chatbot_env/lib/python3.13/site-packages (from mypy<2.0.0,>=1.15.0->langchain-tavily) (1.1.0)\n",
      "Requirement already satisfied: pathspec>=0.9.0 in ./chatbot_env/lib/python3.13/site-packages (from mypy<2.0.0,>=1.15.0->langchain-tavily) (0.12.1)\n",
      "Requirement already satisfied: annotated-types>=0.6.0 in ./chatbot_env/lib/python3.13/site-packages (from pydantic<3.0.0,>=2.7.4->langchain<0.4.0,>=0.3.20->langchain-tavily) (0.7.0)\n",
      "Requirement already satisfied: pydantic-core==2.33.2 in ./chatbot_env/lib/python3.13/site-packages (from pydantic<3.0.0,>=2.7.4->langchain<0.4.0,>=0.3.20->langchain-tavily) (2.33.2)\n",
      "Requirement already satisfied: typing-inspection>=0.4.0 in ./chatbot_env/lib/python3.13/site-packages (from pydantic<3.0.0,>=2.7.4->langchain<0.4.0,>=0.3.20->langchain-tavily) (0.4.1)\n",
      "Requirement already satisfied: charset_normalizer<4,>=2 in ./chatbot_env/lib/python3.13/site-packages (from requests<3.0.0,>=2.32.3->langchain-tavily) (3.4.2)\n",
      "Requirement already satisfied: idna<4,>=2.5 in ./chatbot_env/lib/python3.13/site-packages (from requests<3.0.0,>=2.32.3->langchain-tavily) (3.10)\n",
      "Requirement already satisfied: urllib3<3,>=1.21.1 in ./chatbot_env/lib/python3.13/site-packages (from requests<3.0.0,>=2.32.3->langchain-tavily) (2.5.0)\n",
      "Requirement already satisfied: certifi>=2017.4.17 in ./chatbot_env/lib/python3.13/site-packages (from requests<3.0.0,>=2.32.3->langchain-tavily) (2025.6.15)\n",
      "Requirement already satisfied: httpx<1,>=0.23.0 in ./chatbot_env/lib/python3.13/site-packages (from langsmith>=0.1.17->langchain<0.4.0,>=0.3.20->langchain-tavily) (0.28.1)\n",
      "Requirement already satisfied: orjson<4.0.0,>=3.9.14 in ./chatbot_env/lib/python3.13/site-packages (from langsmith>=0.1.17->langchain<0.4.0,>=0.3.20->langchain-tavily) (3.10.18)\n",
      "Requirement already satisfied: requests-toolbelt<2.0.0,>=1.0.0 in ./chatbot_env/lib/python3.13/site-packages (from langsmith>=0.1.17->langchain<0.4.0,>=0.3.20->langchain-tavily) (1.0.0)\n",
      "Requirement already satisfied: zstandard<0.24.0,>=0.23.0 in ./chatbot_env/lib/python3.13/site-packages (from langsmith>=0.1.17->langchain<0.4.0,>=0.3.20->langchain-tavily) (0.23.0)\n",
      "Requirement already satisfied: anyio in ./chatbot_env/lib/python3.13/site-packages (from httpx<1,>=0.23.0->langsmith>=0.1.17->langchain<0.4.0,>=0.3.20->langchain-tavily) (4.9.0)\n",
      "Requirement already satisfied: httpcore==1.* in ./chatbot_env/lib/python3.13/site-packages (from httpx<1,>=0.23.0->langsmith>=0.1.17->langchain<0.4.0,>=0.3.20->langchain-tavily) (1.0.9)\n",
      "Requirement already satisfied: h11>=0.16 in ./chatbot_env/lib/python3.13/site-packages (from httpcore==1.*->httpx<1,>=0.23.0->langsmith>=0.1.17->langchain<0.4.0,>=0.3.20->langchain-tavily) (0.16.0)\n",
      "Requirement already satisfied: sniffio>=1.1 in ./chatbot_env/lib/python3.13/site-packages (from anyio->httpx<1,>=0.23.0->langsmith>=0.1.17->langchain<0.4.0,>=0.3.20->langchain-tavily) (1.3.1)\n",
      "Note: you may need to restart the kernel to use updated packages.\n"
     ]
    }
   ],
   "source": [
    "pip install -U langchain-tavily"
   ]
  },
  {
   "cell_type": "code",
   "execution_count": 8,
   "metadata": {},
   "outputs": [],
   "source": [
    "from dotenv import load_dotenv"
   ]
  },
  {
   "cell_type": "code",
   "execution_count": 9,
   "metadata": {},
   "outputs": [
    {
     "data": {
      "text/plain": [
       "True"
      ]
     },
     "execution_count": 9,
     "metadata": {},
     "output_type": "execute_result"
    }
   ],
   "source": [
    "load_dotenv()"
   ]
  },
  {
   "cell_type": "code",
   "execution_count": null,
   "metadata": {},
   "outputs": [
    {
     "data": {
      "text/plain": [
       "{'query': \"What's a 'node' in LangGraph?\",\n",
       " 'follow_up_questions': None,\n",
       " 'answer': None,\n",
       " 'images': [],\n",
       " 'results': [{'title': 'Nodes and Edges | langchain-ai/langgraph-101 | DeepWiki',\n",
       "   'url': 'https://deepwiki.com/langchain-ai/langgraph-101/2.2-nodes-and-edges',\n",
       "   'content': 'Nodes and Edges | langchain-ai/langgraph-101 | DeepWiki Nodes and Edges Nodes and Edges What are Nodes and Edges? In LangGraph, a graph is composed of nodes connected by edges to form a directed workflow. Nodes are the workhorses of LangGraph - they are Python functions that receive the current graph state as input, perform operations, and return updates to that state. Edges define the flow of execution between nodes in a LangGraph. graph_builder.add_edge(\"retrieve_documents\", \"generate_response\") Conditional edges use a function to determine the next node based on the current state. Building a Graph with Nodes and Edges graph_builder.add_node(\"retrieve_documents\", retrieve_documents) graph_builder.add_edge(\"retrieve_documents\", \"generate_response\") When designing nodes and edges in LangGraph: Nodes and Edges What are Nodes and Edges? Building a Graph with Nodes and Edges',\n",
       "   'score': 0.8559598,\n",
       "   'raw_content': None},\n",
       "  {'title': 'What is LangGraph? - GeeksforGeeks',\n",
       "   'url': 'https://www.geeksforgeeks.org/machine-learning/what-is-langgraph/',\n",
       "   'content': 'LangGraph is a Python library that helps you build applications like chatbots or AI agents by organizing their logic step-by-step using state machine model. This step configures your Gemini API key and then we create a simple function ask_gemini that takes user input, sends it to the Gemini model and returns the AI-generated response. Creates a state structure with three fields: question, classification and response which flows through the LangGraph. import matplotlib.pyplot as plt from langgraph.graph import StateGraph\\u200bbuilder = StateGraph(GraphState)builder.add_node(\"classify\", classify)builder.add_node(\"respond\", respond)builder.set_entry_point(\"classify\")builder.add_edge(\"classify\", \"respond\")builder.set_finish_point(\"respond\")app = builder.compile()\\u200bdef visualize_workflow(builder): G = nx.DiGraph()\\u200b for node in builder.nodes: G.add_node(node) for edge in builder.edges: G.add_edge(edge[0], edge[1])\\u200b pos = nx.spring_layout(G) nx.draw(G, pos, with_labels=True, node_size=3000, node_color=\"skyblue\", font_size=12, font_weight=\"bold\", arrows=True)  plt.title(\"Langchain Workflow Visualization\") plt.show()\\u200bvisualize_workflow(builder)',\n",
       "   'score': 0.6991933,\n",
       "   'raw_content': None}],\n",
       " 'response_time': 1.05}"
      ]
     },
     "execution_count": 10,
     "metadata": {},
     "output_type": "execute_result"
    }
   ],
   "source": [
    "from langchain_tavily import TavilySearch\n",
    "\n",
    "tool = TavilySearch(max_results=2)\n",
    "tools = [tool]\n",
    "tool.invoke(\"What's a 'node' in LangGraph?\")"
   ]
  },
  {
   "cell_type": "code",
   "execution_count": 21,
   "metadata": {},
   "outputs": [],
   "source": [
    "from IPython.display import display_markdown\n",
    "\n",
    "def get_search_results(query: str):\n",
    "    \"\"\"Get search results for a given query.\"\"\"\n",
    "    raw_response=tool.invoke(query)\n",
    "    for i in raw_response['results']:\n",
    "        display_markdown(i['content'], raw=True)\n",
    "\n",
    "    print(raw_response)"
   ]
  },
  {
   "cell_type": "code",
   "execution_count": null,
   "metadata": {},
   "outputs": [
    {
     "name": "stdout",
     "output_type": "stream",
     "text": [
      "{'title': 'Iran | Latest News from Iran Today | AP News - Associated Press News', 'url': 'https://apnews.com/hub/iran', 'content': 'Iran These surreal trees survived for centuries. It’s also about Hamas and Iran Trump says the US and Iran have ‘sort of’ agreed on the terms for a nuclear deal Iran says it’ll continue nuclear talks with US, shrugging off Trump threats The negotiations have reached the “expert” level, meaning the sides are trying to reach agreement on the details of a possible deal. But a major sticking point remains Iran’s enrichment of uranium, which Tehran insists it must be allowed to do and the Trump administration increasingly insists the Islamic Republic must give up. For one family, 3 generations of service were defined by it Iran and US conclude a fourth round of negotiations over Tehran’s nuclear program in Oman Trump’s trip to Saudi Arabia raises the prospect of US nuclear cooperation with the kingdom Iran and US to meet in Oman for more talks on Tehran’s advancing nuclear program Trump says he’ll decide what the US will call the Persian Gulf while in the Middle East Vance says Russia was ‘asking for too much’ in its initial Ukraine peace offer Trump plans to announce that the US will call the Persian Gulf the Arabian Gulf, officials say AP Analysis: Iran talks tough and launches missile all while seeking a new nuclear deal with the US Iran’s top diplomat in Pakistan to mediate in the escalation with India over the Kashmir attack Iran unveils new solid-fueled ballistic missile, state TV reports Waltz ouster adds to tumult in Trump’s national security team but consolidates power in fewer hands Netanyahu’s campaign against Iran’s nuclear program is muted with Trump in power Mike Waltz to depart from Trump administration following Signal chat fallout Trump threatens sanctions against buyers of Iranian oil after US-Iran nuclear talks are postponed The epicenter of an explosion at an Iranian port is tied to a charity overseen by its supreme leader Iran executes a man convicted of spying for the Israeli Mossad Middle East latest: Israeli strikes kill 12 overnight in Gaza, including kids Iran’s foreign minister says next round of talks with US over nuclear program will be held in Rome In first 100 days, Trump struggles to make good on promises to quickly end Ukraine and Gaza wars Iran says fire extinguished at a port rocked by explosion as the death toll rises to at least 70 Netanyahu says Israeli planes intercepted Iranian ones sent to rescue embattled Syrian leader Assad Iran’s president visits those injured in the port explosion that killed at least 40 people A massive explosion at an Iranian port possibly linked to missile fuel kills 25, injures some 800 Copyright 2025 The Associated Press.', 'score': 0.65676886, 'raw_content': None}\n",
      "{'title': \"Iran | Today's latest from Al Jazeera\", 'url': 'https://www.aljazeera.com/where/iran/', 'content': 'Al Jazeera’s Phil Lavelle explains how the ceasefire deal between Iran and Israel is meant to unfold, Published On 24 Jun 2025 24 Jun 2025   Image 1 Video Duration 01 minutes 12 seconds 01:12    *   EXPLAINER  ### Iran attacks US air base in Qatar: What we know so far Published On 23 Jun 2025 23 Jun 2025   ![Image 7: The remnants of an Iranian missile intercepted over Qatar, as it lies on a pavement near a fence, are seen on June 23, 2025 [AFPTV]](https://www.aljazeera.com/wp-content/uploads/2025/06/AFP__20250623__63HC4G2__v2__HighRes__TopshotQatarIranIsraelUsConflict-1750714228.jpg? *    ### US-Israel-Iran conflict: List of key events, June 23, 2025 Published On 23 Jun 2025 23 Jun 2025   ![Image 9: Iran&#039;s army commander-in-chief General Amir Hatami, centre, accompanied by high-ranking army commanders, speaks in a video call with top commanders of the army, in Zolfaghar central headquarters, Iran, June 23, 2025 [Handout: Iranian Army Press Service via AP Photo]](https://www.aljazeera.com/wp-content/uploads/2025/06/AP25174297228391-1750707364.jpg?', 'score': 0.4558047, 'raw_content': None}\n",
      "{'query': 'Can you give me news about Iran?', 'follow_up_questions': None, 'answer': None, 'images': [], 'results': [{'title': 'Iran | Latest News from Iran Today | AP News - Associated Press News', 'url': 'https://apnews.com/hub/iran', 'content': 'Iran These surreal trees survived for centuries. It’s also about Hamas and Iran Trump says the US and Iran have ‘sort of’ agreed on the terms for a nuclear deal Iran says it’ll continue nuclear talks with US, shrugging off Trump threats The negotiations have reached the “expert” level, meaning the sides are trying to reach agreement on the details of a possible deal. But a major sticking point remains Iran’s enrichment of uranium, which Tehran insists it must be allowed to do and the Trump administration increasingly insists the Islamic Republic must give up. For one family, 3 generations of service were defined by it Iran and US conclude a fourth round of negotiations over Tehran’s nuclear program in Oman Trump’s trip to Saudi Arabia raises the prospect of US nuclear cooperation with the kingdom Iran and US to meet in Oman for more talks on Tehran’s advancing nuclear program Trump says he’ll decide what the US will call the Persian Gulf while in the Middle East Vance says Russia was ‘asking for too much’ in its initial Ukraine peace offer Trump plans to announce that the US will call the Persian Gulf the Arabian Gulf, officials say AP Analysis: Iran talks tough and launches missile all while seeking a new nuclear deal with the US Iran’s top diplomat in Pakistan to mediate in the escalation with India over the Kashmir attack Iran unveils new solid-fueled ballistic missile, state TV reports Waltz ouster adds to tumult in Trump’s national security team but consolidates power in fewer hands Netanyahu’s campaign against Iran’s nuclear program is muted with Trump in power Mike Waltz to depart from Trump administration following Signal chat fallout Trump threatens sanctions against buyers of Iranian oil after US-Iran nuclear talks are postponed The epicenter of an explosion at an Iranian port is tied to a charity overseen by its supreme leader Iran executes a man convicted of spying for the Israeli Mossad Middle East latest: Israeli strikes kill 12 overnight in Gaza, including kids Iran’s foreign minister says next round of talks with US over nuclear program will be held in Rome In first 100 days, Trump struggles to make good on promises to quickly end Ukraine and Gaza wars Iran says fire extinguished at a port rocked by explosion as the death toll rises to at least 70 Netanyahu says Israeli planes intercepted Iranian ones sent to rescue embattled Syrian leader Assad Iran’s president visits those injured in the port explosion that killed at least 40 people A massive explosion at an Iranian port possibly linked to missile fuel kills 25, injures some 800 Copyright 2025 The Associated Press.', 'score': 0.65676886, 'raw_content': None}, {'title': \"Iran | Today's latest from Al Jazeera\", 'url': 'https://www.aljazeera.com/where/iran/', 'content': 'Al Jazeera’s Phil Lavelle explains how the ceasefire deal between Iran and Israel is meant to unfold, Published On 24 Jun 2025 24 Jun 2025   Image 1 Video Duration 01 minutes 12 seconds 01:12    *   EXPLAINER  ### Iran attacks US air base in Qatar: What we know so far Published On 23 Jun 2025 23 Jun 2025   ![Image 7: The remnants of an Iranian missile intercepted over Qatar, as it lies on a pavement near a fence, are seen on June 23, 2025 [AFPTV]](https://www.aljazeera.com/wp-content/uploads/2025/06/AFP__20250623__63HC4G2__v2__HighRes__TopshotQatarIranIsraelUsConflict-1750714228.jpg? *    ### US-Israel-Iran conflict: List of key events, June 23, 2025 Published On 23 Jun 2025 23 Jun 2025   ![Image 9: Iran&#039;s army commander-in-chief General Amir Hatami, centre, accompanied by high-ranking army commanders, speaks in a video call with top commanders of the army, in Zolfaghar central headquarters, Iran, June 23, 2025 [Handout: Iranian Army Press Service via AP Photo]](https://www.aljazeera.com/wp-content/uploads/2025/06/AP25174297228391-1750707364.jpg?', 'score': 0.4558047, 'raw_content': None}], 'response_time': 1.0}\n"
     ]
    }
   ],
   "source": [
    "get_search_results(\"Can you give me news about Iran?\")"
   ]
  },
  {
   "cell_type": "code",
   "execution_count": null,
   "metadata": {},
   "outputs": [
    {
     "data": {
      "text/markdown": [
       "Israel on Tuesday said it will \"respond forcefully\" to Iran's ceasefire violation after Tehran launched a fresh barrage of missiles on the Jewish state hours after both warning enemies agreed to US President Donald Trump's ceasefire proposal. Iranian media on Tuesday said an overnight Israeli strike on the north of the country killed nine people, ahead of US President Donald Trump's announcement of the start of a ceasefire between Israel and Iran. Israel and Iran on Tuesday accepted a ceasefire plan proposed by U.S. President Donald Trump to end their 12-day war that roiled the Middle East, after Tehran launched a retaliatory limited missile attack on a U.S. military base in Qatar."
      ]
     },
     "metadata": {},
     "output_type": "display_data"
    },
    {
     "data": {
      "text/markdown": [
       "Israel Iran War LIVE Updates: While US President Donald Trump declared a temporary ceasefire between the two countries, Iran's foreign minister said there was no agreement on any ceasefire or cessation of military operations. Image 28: Israel Iran War LIVE Updates: 'They don’t know what the f*** they are doing!' says Trump **Israel Iran War LIVE Updates:**Israel and Iran have agreed to the ceasefire proposed by the United States President Donald Trump on June 24. ### Israel Iran War LIVE Updates: Israel do not drop those bombs, says Donald Trump ### Israel Iran War LIVE Updates: Israel do not drop those bombs, says Donald Trump ### Israel Iran War LIVE Updates: Nine Iranians killed in Israeli strikes ### Israel Iran War LIVE Updates: Don't violate ceasefire, says Trump"
      ]
     },
     "metadata": {},
     "output_type": "display_data"
    },
    {
     "name": "stdout",
     "output_type": "stream",
     "text": [
      "{'query': 'iran war', 'follow_up_questions': None, 'answer': None, 'images': [], 'results': [{'title': 'Israel Iran War LIVE | Iran Attacks Israel LIVE Update | Israel Iran ...', 'url': 'https://www.ndtv.com/world-news/israel-iran-war-live-updates-us-president-donald-trump-announces-ceasefire-between-israel-and-iran-tehran-reject-truce-tel-aviv-news-8744764', 'content': 'Israel on Tuesday said it will \"respond forcefully\" to Iran\\'s ceasefire violation after Tehran launched a fresh barrage of missiles on the Jewish state hours after both warning enemies agreed to US President Donald Trump\\'s ceasefire proposal. Iranian media on Tuesday said an overnight Israeli strike on the north of the country killed nine people, ahead of US President Donald Trump\\'s announcement of the start of a ceasefire between Israel and Iran. Israel and Iran on Tuesday accepted a ceasefire plan proposed by U.S. President Donald Trump to end their 12-day war that roiled the Middle East, after Tehran launched a retaliatory limited missile attack on a U.S. military base in Qatar.', 'score': 0.6211049, 'raw_content': None}, {'title': 'Israel Iran War LIVE Updates: Israel hits radar site near ... - CNBCTV18', 'url': 'https://www.cnbctv18.com/world/israel-iran-war-live-updates-ceasefire-trump-qatar-attack-missile-drone-military-netanyahu-khamenei-oil-strait-of-hormuz-liveblog-19625663.htm', 'content': \"Israel Iran War LIVE Updates: While US President Donald Trump declared a temporary ceasefire between the two countries, Iran's foreign minister said there was no agreement on any ceasefire or cessation of military operations. Image 28: Israel Iran War LIVE Updates: 'They don’t know what the f*** they are doing!' says Trump **Israel Iran War LIVE Updates:**Israel and Iran have agreed to the ceasefire proposed by the United States President Donald Trump on June 24. ### Israel Iran War LIVE Updates: Israel do not drop those bombs, says Donald Trump ### Israel Iran War LIVE Updates: Israel do not drop those bombs, says Donald Trump ### Israel Iran War LIVE Updates: Nine Iranians killed in Israeli strikes ### Israel Iran War LIVE Updates: Don't violate ceasefire, says Trump\", 'score': 0.54753727, 'raw_content': None}], 'response_time': 0.98}\n"
     ]
    }
   ],
   "source": [
    "\n",
    "get_search_results(\"iran war\")"
   ]
  },
  {
   "cell_type": "code",
   "execution_count": 25,
   "metadata": {},
   "outputs": [],
   "source": [
    "import os\n",
    "from langchain.chat_models import init_chat_model\n",
    "\n",
    "os.environ[\"OPENAI_API_KEY\"] = \"sk-...\"\n",
    "\n",
    "llm = init_chat_model(\"groq:llama-3.1-70b-versatile\")"
   ]
  },
  {
   "cell_type": "code",
   "execution_count": 28,
   "metadata": {},
   "outputs": [
    {
     "data": {
      "text/plain": [
       "<langgraph.graph.state.StateGraph at 0x10b568410>"
      ]
     },
     "execution_count": 28,
     "metadata": {},
     "output_type": "execute_result"
    }
   ],
   "source": [
    "from typing import Annotated\n",
    "\n",
    "from typing_extensions import TypedDict\n",
    "\n",
    "from langgraph.graph import StateGraph, START, END\n",
    "from langgraph.graph.message import add_messages\n",
    "\n",
    "class State(TypedDict):\n",
    "    messages: Annotated[list, add_messages]\n",
    "\n",
    "graph_builder = StateGraph(State)\n",
    "\n",
    "# Modification: tell the LLM which tools it can call\n",
    "# highlight-next-line\n",
    "llm_with_tools = llm.bind_tools(tools)\n",
    "\n",
    "def chatbot(state: State):\n",
    "    return {\"messages\": [llm_with_tools.invoke(state[\"messages\"])]}\n",
    "\n",
    "graph_builder.add_node(\"chatbot\", chatbot)"
   ]
  },
  {
   "cell_type": "code",
   "execution_count": 29,
   "metadata": {},
   "outputs": [
    {
     "data": {
      "text/plain": [
       "<langgraph.graph.state.StateGraph at 0x10b568410>"
      ]
     },
     "execution_count": 29,
     "metadata": {},
     "output_type": "execute_result"
    }
   ],
   "source": [
    "import json\n",
    "\n",
    "from langchain_core.messages import ToolMessage\n",
    "\n",
    "\n",
    "class BasicToolNode:\n",
    "    \"\"\"A node that runs the tools requested in the last AIMessage.\"\"\"\n",
    "\n",
    "    def __init__(self, tools: list) -> None:\n",
    "        self.tools_by_name = {tool.name: tool for tool in tools}\n",
    "\n",
    "    def __call__(self, inputs: dict):\n",
    "        if messages := inputs.get(\"messages\", []):\n",
    "            message = messages[-1]\n",
    "        else:\n",
    "            raise ValueError(\"No message found in input\")\n",
    "        outputs = []\n",
    "        for tool_call in message.tool_calls:\n",
    "            tool_result = self.tools_by_name[tool_call[\"name\"]].invoke(\n",
    "                tool_call[\"args\"]\n",
    "            )\n",
    "            outputs.append(\n",
    "                ToolMessage(\n",
    "                    content=json.dumps(tool_result),\n",
    "                    name=tool_call[\"name\"],\n",
    "                    tool_call_id=tool_call[\"id\"],\n",
    "                )\n",
    "            )\n",
    "        return {\"messages\": outputs}\n",
    "\n",
    "\n",
    "tool_node = BasicToolNode(tools=[tool])\n",
    "graph_builder.add_node(\"tools\", tool_node)"
   ]
  },
  {
   "cell_type": "code",
   "execution_count": 30,
   "metadata": {},
   "outputs": [],
   "source": [
    "def route_tools(\n",
    "    state: State,\n",
    "):\n",
    "    \"\"\"\n",
    "    Use in the conditional_edge to route to the ToolNode if the last message\n",
    "    has tool calls. Otherwise, route to the end.\n",
    "    \"\"\"\n",
    "    if isinstance(state, list):\n",
    "        ai_message = state[-1]\n",
    "    elif messages := state.get(\"messages\", []):\n",
    "        ai_message = messages[-1]\n",
    "    else:\n",
    "        raise ValueError(f\"No messages found in input state to tool_edge: {state}\")\n",
    "    if hasattr(ai_message, \"tool_calls\") and len(ai_message.tool_calls) > 0:\n",
    "        return \"tools\"\n",
    "    return END\n",
    "\n",
    "\n",
    "# The `tools_condition` function returns \"tools\" if the chatbot asks to use a tool, and \"END\" if\n",
    "# it is fine directly responding. This conditional routing defines the main agent loop.\n",
    "graph_builder.add_conditional_edges(\n",
    "    \"chatbot\",\n",
    "    route_tools,\n",
    "    # The following dictionary lets you tell the graph to interpret the condition's outputs as a specific node\n",
    "    # It defaults to the identity function, but if you\n",
    "    # want to use a node named something else apart from \"tools\",\n",
    "    # You can update the value of the dictionary to something else\n",
    "    # e.g., \"tools\": \"my_tools\"\n",
    "    {\"tools\": \"tools\", END: END},\n",
    ")\n",
    "# Any time a tool is called, we return to the chatbot to decide the next step\n",
    "graph_builder.add_edge(\"tools\", \"chatbot\")\n",
    "graph_builder.add_edge(START, \"chatbot\")\n",
    "graph = graph_builder.compile()\n"
   ]
  },
  {
   "cell_type": "code",
   "execution_count": 31,
   "metadata": {},
   "outputs": [
    {
     "data": {
      "image/png": "[encoded data removed]",
      "text/plain": [
       "<IPython.core.display.Image object>"
      ]
     },
     "metadata": {},
     "output_type": "display_data"
    }
   ],
   "source": [
    "from IPython.display import Image, display\n",
    "\n",
    "try:\n",
    "    display(Image(graph.get_graph().draw_mermaid_png()))\n",
    "except Exception:\n",
    "    # This requires some extra dependencies and is optional\n",
    "    pass"
   ]
  },
  {
   "cell_type": "code",
   "execution_count": null,
   "metadata": {},
   "outputs": [],
   "source": [
    "def stream_graph_updates(user_input: str):\n",
    "    for event in graph.stream({\"messages\": [{\"role\": \"user\", \"content\": user_input}]}):\n",
    "        for value in event.values():\n",
    "            print(\"Assistant:\", value[\"messages\"][-1].content)\n",
    "\n",
    "while True:\n",
    "    try:\n",
    "        user_input = input(\"User: \")\n",
    "        if user_input.lower() in [\"quit\", \"exit\", \"q\"]:\n",
    "            print(\"Goodbye!\")\n",
    "            break\n",
    "\n",
    "        stream_graph_updates(user_input)\n",
    "    except:\n",
    "        # fallback if input() is not available\n",
    "        user_input = \"What do you know about LangGraph?\"\n",
    "        print(\"User: \" + user_input)\n",
    "        stream_graph_updates(user_input)\n",
    "        break"
   ]
  },
  {
   "cell_type": "code",
   "execution_count": 1,
   "metadata": {},
   "outputs": [],
   "source": [
    "from langgraph.checkpoint.memory import MemorySaver\n",
    "\n",
    "memory = MemorySaver()"
   ]
  },
  {
   "cell_type": "code",
   "execution_count": 2,
   "metadata": {},
   "outputs": [
    {
     "ename": "NameError",
     "evalue": "name 'graph_builder' is not defined",
     "output_type": "error",
     "traceback": [
      "\u001b[31m---------------------------------------------------------------------------\u001b[39m",
      "\u001b[31mNameError\u001b[39m                                 Traceback (most recent call last)",
      "\u001b[36mCell\u001b[39m\u001b[36m \u001b[39m\u001b[32mIn[2]\u001b[39m\u001b[32m, line 1\u001b[39m\n\u001b[32m----> \u001b[39m\u001b[32m1\u001b[39m graph = \u001b[43mgraph_builder\u001b[49m.compile(checkpointer=memory)\n",
      "\u001b[31mNameError\u001b[39m: name 'graph_builder' is not defined"
     ]
    }
   ],
   "source": [
    "graph = graph_builder.compile(checkpointer=memory)"
   ]
  },
  {
   "cell_type": "code",
   "execution_count": null,
   "metadata": {},
   "outputs": [],
   "source": [
    "from IPython.display import Image, display\n",
    "\n",
    "try:\n",
    "    display(Image(graph.get_graph().draw_mermaid_png()))\n",
    "except Exception:\n",
    "    # This requires some extra dependencies and is optional\n",
    "    pass"
   ]
  }
 ],
 "metadata": {
  "kernelspec": {
   "display_name": "chatbot_env",
   "language": "python",
   "name": "python3"
  },
  "language_info": {
   "codemirror_mode": {
    "name": "ipython",
    "version": 3
   },
   "file_extension": ".py",
   "mimetype": "text/x-python",
   "name": "python",
   "nbconvert_exporter": "python",
   "pygments_lexer": "ipython3",
   "version": "3.13.5"
  }
 },
 "nbformat": 4,
 "nbformat_minor": 2
}
